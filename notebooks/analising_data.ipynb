{
 "cells": [
  {
   "cell_type": "code",
   "execution_count": 16,
   "id": "d40bcdc8-30ca-46a0-929c-491520e20c26",
   "metadata": {},
   "outputs": [],
   "source": [
    "import pandas as pd\n",
    "import matplotlib.pyplot as plt"
   ]
  },
  {
   "cell_type": "code",
   "execution_count": 63,
   "id": "c8ba51e2-44f3-490f-81a5-3e4a173447b6",
   "metadata": {},
   "outputs": [
    {
     "data": {
      "text/html": [
       "<div>\n",
       "<style scoped>\n",
       "    .dataframe tbody tr th:only-of-type {\n",
       "        vertical-align: middle;\n",
       "    }\n",
       "\n",
       "    .dataframe tbody tr th {\n",
       "        vertical-align: top;\n",
       "    }\n",
       "\n",
       "    .dataframe thead th {\n",
       "        text-align: right;\n",
       "    }\n",
       "</style>\n",
       "<table border=\"1\" class=\"dataframe\">\n",
       "  <thead>\n",
       "    <tr style=\"text-align: right;\">\n",
       "      <th></th>\n",
       "      <th>name</th>\n",
       "      <th>company</th>\n",
       "      <th>technology</th>\n",
       "      <th>job</th>\n",
       "      <th>location.city</th>\n",
       "      <th>location.country</th>\n",
       "      <th>salary.low</th>\n",
       "      <th>salary.high</th>\n",
       "      <th>salary.currency</th>\n",
       "      <th>salary.avg</th>\n",
       "      <th>is_senior</th>\n",
       "    </tr>\n",
       "  </thead>\n",
       "  <tbody>\n",
       "    <tr>\n",
       "      <th>0</th>\n",
       "      <td>data engineer</td>\n",
       "      <td>dentsu Polska</td>\n",
       "      <td>SQL</td>\n",
       "      <td>data_engineer</td>\n",
       "      <td>warszawa</td>\n",
       "      <td>POL</td>\n",
       "      <td>13000</td>\n",
       "      <td>16000</td>\n",
       "      <td>PLN</td>\n",
       "      <td>14500.0</td>\n",
       "      <td>False</td>\n",
       "    </tr>\n",
       "    <tr>\n",
       "      <th>1</th>\n",
       "      <td>remote data engineer</td>\n",
       "      <td>Mindbox S.A.</td>\n",
       "      <td>NaN</td>\n",
       "      <td>data_engineer</td>\n",
       "      <td>zdalna</td>\n",
       "      <td>NaN</td>\n",
       "      <td>23100</td>\n",
       "      <td>30450</td>\n",
       "      <td>PLN</td>\n",
       "      <td>26775.0</td>\n",
       "      <td>False</td>\n",
       "    </tr>\n",
       "    <tr>\n",
       "      <th>2</th>\n",
       "      <td>data engineer</td>\n",
       "      <td>Avanade Poland</td>\n",
       "      <td>SQL</td>\n",
       "      <td>data_engineer</td>\n",
       "      <td>warszawa</td>\n",
       "      <td>POL</td>\n",
       "      <td>15000</td>\n",
       "      <td>25000</td>\n",
       "      <td>PLN</td>\n",
       "      <td>20000.0</td>\n",
       "      <td>False</td>\n",
       "    </tr>\n",
       "    <tr>\n",
       "      <th>3</th>\n",
       "      <td>data engineer (microsoft)</td>\n",
       "      <td>Onwelo S.A.</td>\n",
       "      <td>NaN</td>\n",
       "      <td>data_engineer</td>\n",
       "      <td>zdalna</td>\n",
       "      <td>NaN</td>\n",
       "      <td>13650</td>\n",
       "      <td>17850</td>\n",
       "      <td>PLN</td>\n",
       "      <td>15750.0</td>\n",
       "      <td>False</td>\n",
       "    </tr>\n",
       "    <tr>\n",
       "      <th>4</th>\n",
       "      <td>data engineer</td>\n",
       "      <td>Phorest</td>\n",
       "      <td>looker</td>\n",
       "      <td>data_engineer</td>\n",
       "      <td>zdalna</td>\n",
       "      <td>NaN</td>\n",
       "      <td>16773</td>\n",
       "      <td>23962</td>\n",
       "      <td>PLN</td>\n",
       "      <td>20367.5</td>\n",
       "      <td>False</td>\n",
       "    </tr>\n",
       "  </tbody>\n",
       "</table>\n",
       "</div>"
      ],
      "text/plain": [
       "                        name         company technology            job  \\\n",
       "0              data engineer   dentsu Polska        SQL  data_engineer   \n",
       "1       remote data engineer    Mindbox S.A.        NaN  data_engineer   \n",
       "2              data engineer  Avanade Poland        SQL  data_engineer   \n",
       "3  data engineer (microsoft)     Onwelo S.A.        NaN  data_engineer   \n",
       "4              data engineer         Phorest     looker  data_engineer   \n",
       "\n",
       "  location.city location.country  salary.low  salary.high salary.currency  \\\n",
       "0      warszawa              POL       13000        16000             PLN   \n",
       "1        zdalna              NaN       23100        30450             PLN   \n",
       "2      warszawa              POL       15000        25000             PLN   \n",
       "3        zdalna              NaN       13650        17850             PLN   \n",
       "4        zdalna              NaN       16773        23962             PLN   \n",
       "\n",
       "   salary.avg  is_senior  \n",
       "0     14500.0      False  \n",
       "1     26775.0      False  \n",
       "2     20000.0      False  \n",
       "3     15750.0      False  \n",
       "4     20367.5      False  "
      ]
     },
     "execution_count": 63,
     "metadata": {},
     "output_type": "execute_result"
    }
   ],
   "source": [
    "df = pd.read_csv('../data/processed/all_job_offers_13_03_2022.csv')\n",
    "df.head()"
   ]
  },
  {
   "cell_type": "code",
   "execution_count": 64,
   "id": "fb0c06f4-b21a-49f9-b5db-df706091eacc",
   "metadata": {},
   "outputs": [
    {
     "name": "stdout",
     "output_type": "stream",
     "text": [
      "job\n",
      "data_analyst      29\n",
      "data_engineer     96\n",
      "data_scientist    26\n",
      "dtype: int64\n"
     ]
    },
    {
     "data": {
      "image/png": "[encoded data removed]",
      "text/plain": [
       "<Figure size 432x288 with 1 Axes>"
      ]
     },
     "metadata": {
      "needs_background": "light"
     },
     "output_type": "display_data"
    }
   ],
   "source": [
    "job_offers = df.groupby(by=['job']).size()\n",
    "job_offers.plot.bar()\n",
    "\n",
    "print(job_offers)"
   ]
  },
  {
   "cell_type": "code",
   "execution_count": 65,
   "id": "45fd9e61-ff43-4710-b87b-86e9968c06e8",
   "metadata": {},
   "outputs": [
    {
     "name": "stdout",
     "output_type": "stream",
     "text": [
      "location.city  job           \n",
      "budapest       data_engineer      4\n",
      "               data_scientist     1\n",
      "gdańsk         data_analyst       1\n",
      "               data_engineer      1\n",
      "kraków         data_analyst       1\n",
      "               data_engineer      2\n",
      "malbork        data_engineer      1\n",
      "poznań         data_engineer      3\n",
      "sopot          data_scientist     1\n",
      "warszawa       data_analyst       6\n",
      "               data_engineer      9\n",
      "               data_scientist     6\n",
      "wrocław        data_engineer      1\n",
      "               data_scientist     1\n",
      "zdalna         data_analyst      21\n",
      "               data_engineer     75\n",
      "               data_scientist    16\n",
      "łódź           data_scientist     1\n",
      "dtype: int64\n"
     ]
    },
    {
     "data": {
      "image/png": "[encoded data removed]",
      "text/plain": [
       "<Figure size 432x288 with 1 Axes>"
      ]
     },
     "metadata": {
      "needs_background": "light"
     },
     "output_type": "display_data"
    }
   ],
   "source": [
    "offers_by_city = df.groupby(by=['location.city', 'job']).size()\n",
    "offers_by_city.sort_values().plot.bar()\n",
    "print(offers_by_city)"
   ]
  },
  {
   "cell_type": "code",
   "execution_count": 66,
   "id": "a16539ff-7401-4524-bc84-43ffd9d39c99",
   "metadata": {},
   "outputs": [
    {
     "data": {
      "text/plain": [
       "array([[<AxesSubplot:title={'center':'salary.avg'}, xlabel='job'>,\n",
       "        <AxesSubplot:title={'center':'count'}, xlabel='job'>]],\n",
       "      dtype=object)"
      ]
     },
     "execution_count": 66,
     "metadata": {},
     "output_type": "execute_result"
    },
    {
     "data": {
      "image/png": "[encoded data removed]",
      "text/plain": [
       "<Figure size 432x288 with 2 Axes>"
      ]
     },
     "metadata": {
      "needs_background": "light"
     },
     "output_type": "display_data"
    }
   ],
   "source": [
    "offer_salary = df.groupby(by=['job']).agg({'salary.avg': 'mean', 'name': 'count'})\n",
    "offer_salary.sort_values(by=['salary.avg'], inplace=True)\n",
    "offer_salary.rename(columns={'name':'count'}, inplace=True)\n",
    "offer_salary.plot(subplots=True, layout=(1, 2), kind='bar')"
   ]
  },
  {
   "cell_type": "code",
   "execution_count": 67,
   "id": "44c40758-07e5-4d5b-9235-02f6973df4bc",
   "metadata": {},
   "outputs": [
    {
     "data": {
      "text/html": [
       "<div>\n",
       "<style scoped>\n",
       "    .dataframe tbody tr th:only-of-type {\n",
       "        vertical-align: middle;\n",
       "    }\n",
       "\n",
       "    .dataframe tbody tr th {\n",
       "        vertical-align: top;\n",
       "    }\n",
       "\n",
       "    .dataframe thead th {\n",
       "        text-align: right;\n",
       "    }\n",
       "</style>\n",
       "<table border=\"1\" class=\"dataframe\">\n",
       "  <thead>\n",
       "    <tr style=\"text-align: right;\">\n",
       "      <th></th>\n",
       "      <th>salary.avg</th>\n",
       "      <th>count</th>\n",
       "    </tr>\n",
       "    <tr>\n",
       "      <th>location.city</th>\n",
       "      <th></th>\n",
       "      <th></th>\n",
       "    </tr>\n",
       "  </thead>\n",
       "  <tbody>\n",
       "    <tr>\n",
       "      <th>malbork</th>\n",
       "      <td>5500.000000</td>\n",
       "      <td>1</td>\n",
       "    </tr>\n",
       "    <tr>\n",
       "      <th>sopot</th>\n",
       "      <td>9750.000000</td>\n",
       "      <td>1</td>\n",
       "    </tr>\n",
       "    <tr>\n",
       "      <th>łódź</th>\n",
       "      <td>12000.000000</td>\n",
       "      <td>1</td>\n",
       "    </tr>\n",
       "    <tr>\n",
       "      <th>budapest</th>\n",
       "      <td>13449.800000</td>\n",
       "      <td>5</td>\n",
       "    </tr>\n",
       "    <tr>\n",
       "      <th>poznań</th>\n",
       "      <td>13500.000000</td>\n",
       "      <td>3</td>\n",
       "    </tr>\n",
       "    <tr>\n",
       "      <th>gdańsk</th>\n",
       "      <td>14700.000000</td>\n",
       "      <td>2</td>\n",
       "    </tr>\n",
       "    <tr>\n",
       "      <th>warszawa</th>\n",
       "      <td>15297.619048</td>\n",
       "      <td>21</td>\n",
       "    </tr>\n",
       "    <tr>\n",
       "      <th>kraków</th>\n",
       "      <td>16166.666667</td>\n",
       "      <td>3</td>\n",
       "    </tr>\n",
       "    <tr>\n",
       "      <th>wrocław</th>\n",
       "      <td>20160.000000</td>\n",
       "      <td>2</td>\n",
       "    </tr>\n",
       "    <tr>\n",
       "      <th>zdalna</th>\n",
       "      <td>20638.477679</td>\n",
       "      <td>112</td>\n",
       "    </tr>\n",
       "  </tbody>\n",
       "</table>\n",
       "</div>"
      ],
      "text/plain": [
       "                 salary.avg  count\n",
       "location.city                     \n",
       "malbork         5500.000000      1\n",
       "sopot           9750.000000      1\n",
       "łódź           12000.000000      1\n",
       "budapest       13449.800000      5\n",
       "poznań         13500.000000      3\n",
       "gdańsk         14700.000000      2\n",
       "warszawa       15297.619048     21\n",
       "kraków         16166.666667      3\n",
       "wrocław        20160.000000      2\n",
       "zdalna         20638.477679    112"
      ]
     },
     "execution_count": 67,
     "metadata": {},
     "output_type": "execute_result"
    }
   ],
   "source": [
    "offer_salary_by_city = df.groupby(by=['location.city']).agg({'salary.avg': 'mean', 'name': 'count'})\n",
    "offer_salary_by_city.sort_values(by=['salary.avg'], inplace=True)\n",
    "offer_salary_by_city.rename(columns={'name':'count'}, inplace=True)\n",
    "offer_salary_by_city"
   ]
  },
  {
   "cell_type": "code",
   "execution_count": 68,
   "id": "8f6718a3-2118-4284-ac75-4f50cb567093",
   "metadata": {},
   "outputs": [
    {
     "data": {
      "text/plain": [
       "<AxesSubplot:xlabel='location.city'>"
      ]
     },
     "execution_count": 68,
     "metadata": {},
     "output_type": "execute_result"
    },
    {
     "data": {
      "image/png": "[encoded data removed]",
      "text/plain": [
       "<Figure size 432x288 with 1 Axes>"
      ]
     },
     "metadata": {
      "needs_background": "light"
     },
     "output_type": "display_data"
    }
   ],
   "source": [
    "df.pivot_table(index='location.city', columns='job', values='salary.avg').plot(kind='bar')"
   ]
  },
  {
   "cell_type": "code",
   "execution_count": 69,
   "id": "642fb54e-00f3-42df-bda4-d48eeaa3622a",
   "metadata": {},
   "outputs": [
    {
     "data": {
      "text/html": [
       "<div>\n",
       "<style scoped>\n",
       "    .dataframe tbody tr th:only-of-type {\n",
       "        vertical-align: middle;\n",
       "    }\n",
       "\n",
       "    .dataframe tbody tr th {\n",
       "        vertical-align: top;\n",
       "    }\n",
       "\n",
       "    .dataframe thead th {\n",
       "        text-align: right;\n",
       "    }\n",
       "</style>\n",
       "<table border=\"1\" class=\"dataframe\">\n",
       "  <thead>\n",
       "    <tr style=\"text-align: right;\">\n",
       "      <th></th>\n",
       "      <th></th>\n",
       "      <th>salary.avg</th>\n",
       "      <th>name</th>\n",
       "    </tr>\n",
       "    <tr>\n",
       "      <th>job</th>\n",
       "      <th>is_senior</th>\n",
       "      <th></th>\n",
       "      <th></th>\n",
       "    </tr>\n",
       "  </thead>\n",
       "  <tbody>\n",
       "    <tr>\n",
       "      <th rowspan=\"2\" valign=\"top\">data_analyst</th>\n",
       "      <th>False</th>\n",
       "      <td>13783.37</td>\n",
       "      <td>26</td>\n",
       "    </tr>\n",
       "    <tr>\n",
       "      <th>True</th>\n",
       "      <td>19300.00</td>\n",
       "      <td>3</td>\n",
       "    </tr>\n",
       "    <tr>\n",
       "      <th rowspan=\"2\" valign=\"top\">data_engineer</th>\n",
       "      <th>False</th>\n",
       "      <td>19822.71</td>\n",
       "      <td>75</td>\n",
       "    </tr>\n",
       "    <tr>\n",
       "      <th>True</th>\n",
       "      <td>24364.19</td>\n",
       "      <td>21</td>\n",
       "    </tr>\n",
       "    <tr>\n",
       "      <th rowspan=\"2\" valign=\"top\">data_scientist</th>\n",
       "      <th>False</th>\n",
       "      <td>16188.56</td>\n",
       "      <td>17</td>\n",
       "    </tr>\n",
       "    <tr>\n",
       "      <th>True</th>\n",
       "      <td>21794.94</td>\n",
       "      <td>9</td>\n",
       "    </tr>\n",
       "  </tbody>\n",
       "</table>\n",
       "</div>"
      ],
      "text/plain": [
       "                          salary.avg  name\n",
       "job            is_senior                  \n",
       "data_analyst   False        13783.37    26\n",
       "               True         19300.00     3\n",
       "data_engineer  False        19822.71    75\n",
       "               True         24364.19    21\n",
       "data_scientist False        16188.56    17\n",
       "               True         21794.94     9"
      ]
     },
     "execution_count": 69,
     "metadata": {},
     "output_type": "execute_result"
    }
   ],
   "source": [
    "salary_by_senior = df.groupby(by=['job', 'is_senior']).agg({'salary.avg': 'mean', 'name': 'count'})\n",
    "salary_by_senior['salary.avg'] = salary_by_senior['salary.avg'].round(2)\n",
    "salary_by_senior"
   ]
  },
  {
   "cell_type": "code",
   "execution_count": null,
   "id": "5fd1f5ab-2dad-4360-91f5-7b6209ae2309",
   "metadata": {},
   "outputs": [],
   "source": []
  }
 ],
 "metadata": {
  "kernelspec": {
   "display_name": "Python 3",
   "language": "python",
   "name": "python3"
  },
  "language_info": {
   "codemirror_mode": {
    "name": "ipython",
    "version": 3
   },
   "file_extension": ".py",
   "mimetype": "text/x-python",
   "name": "python",
   "nbconvert_exporter": "python",
   "pygments_lexer": "ipython3",
   "version": "3.8.8"
  }
 },
 "nbformat": 4,
 "nbformat_minor": 5
}
