{
 "cells": [
  {
   "cell_type": "code",
   "execution_count": 10,
   "id": "907e3dc4-4647-4fc6-b268-3cc26b5fb143",
   "metadata": {},
   "outputs": [],
   "source": [
    "import time\n",
    "from random import randint\n",
    "\n",
    "from bs4 import BeautifulSoup\n",
    "from selenium.webdriver import Firefox\n",
    "                                   \n",
    "def fetch_data(position: str, page: int):\n",
    "    url = f\"https://nofluffjobs.com/pl/praca-it?criteria=keyword%3D'{position}'&page={str(page)}\"\n",
    "    browser.get(url)\n",
    "    soup = BeautifulSoup(browser.page_source)\n",
    "    return soup\n",
    "\n",
    "def check_offers(html) -> bool:\n",
    "    header = html.select_one(\"nfj-no-offers-found-header\")\n",
    "    return True if not header else False\n",
    "    \n",
    "def save_page(position: str):\n",
    "    page = 1    \n",
    "    while True:\n",
    "        html = fetch_data(position, page)\n",
    "        offers_available = check_offers(html)\n",
    "        if offers_available:\n",
    "            name = \"_\".join(position.split(\" \"))\n",
    "            with open(f'./../data/raw/{name}_{str(page)}.html', 'w', encoding='utf-8') as file:\n",
    "                file.write(html.prettify())\n",
    "            page += 1\n",
    "            time.sleep(randint(2, 5))\n",
    "        else:\n",
    "            browser.close()\n",
    "            break"
   ]
  },
  {
   "cell_type": "code",
   "execution_count": null,
   "id": "08601d93-ad0a-4f5c-90a4-2e3b26a9f2d6",
   "metadata": {},
   "outputs": [
    {
     "name": "stderr",
     "output_type": "stream",
     "text": [
      "<ipython-input-11-fa76330bb0a4>:1: DeprecationWarning: executable_path has been deprecated, please pass in a Service object\n",
      "  browser = Firefox(executable_path='./../drivers/geckodriver')\n"
     ]
    }
   ],
   "source": [
    "browser = Firefox(executable_path='./../drivers/geckodriver')\n",
    "save_page('data scientist')"
   ]
  },
  {
   "cell_type": "code",
   "execution_count": null,
   "id": "f817b93e-1012-4a07-81c7-62aa47af23d6",
   "metadata": {},
   "outputs": [],
   "source": []
  }
 ],
 "metadata": {
  "kernelspec": {
   "display_name": "Python 3",
   "language": "python",
   "name": "python3"
  },
  "language_info": {
   "codemirror_mode": {
    "name": "ipython",
    "version": 3
   },
   "file_extension": ".py",
   "mimetype": "text/x-python",
   "name": "python",
   "nbconvert_exporter": "python",
   "pygments_lexer": "ipython3",
   "version": "3.8.8"
  }
 },
 "nbformat": 4,
 "nbformat_minor": 5
}
