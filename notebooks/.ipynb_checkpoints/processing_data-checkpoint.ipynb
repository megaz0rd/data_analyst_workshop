{
 "cells": [
  {
   "cell_type": "code",
   "execution_count": 104,
   "id": "833faae3-4327-4014-bc14-4e041f4c37f0",
   "metadata": {},
   "outputs": [],
   "source": [
    "import glob\n",
    "import pandas as pd\n",
    "from datetime import date\n",
    "\n",
    "today = date.today().strftime('%d_%m_%Y')\n",
    "\n",
    "LOCATIONS = {\n",
    "    'warsaw': 'warszawa',\n",
    "    'gdansk': 'gdańsk',\n",
    "    'wroclaw': 'wrocław',\n",
    "    'cracau': 'kraków',\n",
    "    'wroclove': 'wrocław',\n",
    "    'breslau': 'wrocław',\n",
    "    'warshau': 'warszawa',\n",
    "    'krakow': 'kraków'\n",
    "}\n",
    "\n",
    "def find_files(position):\n",
    "    files = glob.glob(f'./../data/interim/{position}_*.csv')\n",
    "    return files\n",
    "\n",
    "position = 'data_scientist'\n",
    "files = find_files(position)\n",
    "for file in files:\n",
    "    df = pd.read_csv(file)\n",
    "    new_frame = df.loc[df['salary.currency'] == 'PLN']\n",
    "    new_frame['name'] = new_frame['name'].apply(lambda x: x.lower())\n",
    "    new_frame['location.city'] = new_frame['location.city'].apply(lambda x: x.lower())\n",
    "    new_frame['salary.avg'] = new_frame[['salary.low', 'salary.high']].mean(axis=1)\n",
    "    new_frame.replace({'location.city': LOCATIONS}, inplace=True)\n",
    "    new_frame['is_senior'] = new_frame[\"name\"].str.contains('senior')\n",
    "    new_frame.to_csv(f'./../data/processed/{position}_{today}.csv', encoding='utf8', index=False)"
   ]
  },
  {
   "cell_type": "code",
   "execution_count": 105,
   "id": "719389a2-aba5-4d49-b849-3b202eeee8fb",
   "metadata": {},
   "outputs": [],
   "source": [
    "def find_files():\n",
    "    files = glob.glob(f'./../data/processed/data_*.csv')\n",
    "    return files\n",
    "\n",
    "files = find_files()\n",
    "all_offers = pd.concat([pd.read_csv(f) for f in files])\n",
    "all_offers.to_csv(f\"./../data/processed/all_job_offers_{today}.csv\", encoding='utf8', index=False)"
   ]
  },
  {
   "cell_type": "code",
   "execution_count": null,
   "id": "14bfb408-b86d-4b61-aa32-7194b0d70543",
   "metadata": {},
   "outputs": [],
   "source": []
  }
 ],
 "metadata": {
  "kernelspec": {
   "display_name": "Python 3",
   "language": "python",
   "name": "python3"
  },
  "language_info": {
   "codemirror_mode": {
    "name": "ipython",
    "version": 3
   },
   "file_extension": ".py",
   "mimetype": "text/x-python",
   "name": "python",
   "nbconvert_exporter": "python",
   "pygments_lexer": "ipython3",
   "version": "3.8.8"
  }
 },
 "nbformat": 4,
 "nbformat_minor": 5
}
